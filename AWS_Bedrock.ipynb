{
 "cells": [
  {
   "cell_type": "code",
   "execution_count": 1,
   "metadata": {},
   "outputs": [],
   "source": [
    "import os\n",
    "import boto3\n",
    "\n",
    "session = boto3.Session(\n",
    "    aws_access_key_id = os.getenv(\"AWS_ACCESS_KEY\"),\n",
    "    aws_secret_access_key = os.getenv(\"AWS_SECRET_KEY\"),\n",
    ")\n",
    "\n",
    "client = session.client(\"bedrock-runtime\", \"us-east-1\")"
   ]
  },
  {
   "cell_type": "code",
   "execution_count": 2,
   "metadata": {},
   "outputs": [
    {
     "data": {
      "text/plain": [
       "AIMessage(content=' \"I love amazon!\"을 한국어로 번역하면 \"아마존을 좋아해!\"입니다.')"
      ]
     },
     "execution_count": 2,
     "metadata": {},
     "output_type": "execute_result"
    }
   ],
   "source": [
    "from langchain.chat_models import BedrockChat\n",
    "from langchain.prompts import ChatPromptTemplate\n",
    "\n",
    "chat = BedrockChat(\n",
    "    client=client,\n",
    "    model_id=\"anthropic.claude-v2:1\",\n",
    "    model_kwargs={\n",
    "        \"temperature\":0.1\n",
    "    },\n",
    ")\n",
    "\n",
    "prompt = ChatPromptTemplate.from_messages(\n",
    "    [\n",
    "        (\n",
    "            \"user\",\n",
    "            \"Translate this sentence from {lang_a} to {lang_b}. {sentence}\"\n",
    "        )\n",
    "    ]\n",
    ")\n",
    "\n",
    "chain = prompt | chat\n",
    "chain.invoke({\n",
    "    \"lang_a\": \"English\",\n",
    "    \"lang_b\": \"Korean\",\n",
    "    \"sentence\": \"I love amazon!\"\n",
    "})"
   ]
  },
  {
   "cell_type": "code",
   "execution_count": null,
   "metadata": {},
   "outputs": [],
   "source": []
  }
 ],
 "metadata": {
  "kernelspec": {
   "display_name": "venv",
   "language": "python",
   "name": "python3"
  },
  "language_info": {
   "codemirror_mode": {
    "name": "ipython",
    "version": 3
   },
   "file_extension": ".py",
   "mimetype": "text/x-python",
   "name": "python",
   "nbconvert_exporter": "python",
   "pygments_lexer": "ipython3",
   "version": "3.11.6"
  }
 },
 "nbformat": 4,
 "nbformat_minor": 2
}
